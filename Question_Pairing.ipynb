{
  "nbformat": 4,
  "nbformat_minor": 0,
  "metadata": {
    "colab": {
      "name": "Question Pairing",
      "provenance": [],
      "collapsed_sections": []
    },
    "kernelspec": {
      "name": "python3",
      "display_name": "Python 3"
    }
  },
  "cells": [
    {
      "cell_type": "code",
      "metadata": {
        "id": "k1jUsF_xGNAW"
      },
      "source": [
        "# get rid of the long sentence in question 2 at dataset (delete all)\n",
        "# update the numbers at the model\n"
      ],
      "execution_count": null,
      "outputs": []
    },
    {
      "cell_type": "code",
      "metadata": {
        "id": "eedf0B1fzRdh",
        "outputId": "1e2689eb-0871-4f7c-c1d5-77f27b212717",
        "colab": {
          "base_uri": "https://localhost:8080/",
          "height": 372
        }
      },
      "source": [
        "!wget http://nlp.stanford.edu/data/glove.6B.zip\n",
        "!unzip -q glove.6B.zip"
      ],
      "execution_count": null,
      "outputs": [
        {
          "output_type": "stream",
          "text": [
            "--2020-10-15 21:42:15--  http://nlp.stanford.edu/data/glove.6B.zip\n",
            "Resolving nlp.stanford.edu (nlp.stanford.edu)... 171.64.67.140\n",
            "Connecting to nlp.stanford.edu (nlp.stanford.edu)|171.64.67.140|:80... connected.\n",
            "HTTP request sent, awaiting response... 302 Found\n",
            "Location: https://nlp.stanford.edu/data/glove.6B.zip [following]\n",
            "--2020-10-15 21:42:15--  https://nlp.stanford.edu/data/glove.6B.zip\n",
            "Connecting to nlp.stanford.edu (nlp.stanford.edu)|171.64.67.140|:443... connected.\n",
            "HTTP request sent, awaiting response... 301 Moved Permanently\n",
            "Location: http://downloads.cs.stanford.edu/nlp/data/glove.6B.zip [following]\n",
            "--2020-10-15 21:42:15--  http://downloads.cs.stanford.edu/nlp/data/glove.6B.zip\n",
            "Resolving downloads.cs.stanford.edu (downloads.cs.stanford.edu)... 171.64.64.22\n",
            "Connecting to downloads.cs.stanford.edu (downloads.cs.stanford.edu)|171.64.64.22|:80... connected.\n",
            "HTTP request sent, awaiting response... 200 OK\n",
            "Length: 862182613 (822M) [application/zip]\n",
            "Saving to: ‘glove.6B.zip’\n",
            "\n",
            "glove.6B.zip        100%[===================>] 822.24M  2.08MB/s    in 6m 27s  \n",
            "\n",
            "2020-10-15 21:48:43 (2.12 MB/s) - ‘glove.6B.zip’ saved [862182613/862182613]\n",
            "\n"
          ],
          "name": "stdout"
        }
      ]
    },
    {
      "cell_type": "code",
      "metadata": {
        "id": "XLbzJVz0W-wy",
        "outputId": "a8a1c8d4-fb70-4143-80e6-e0803251a64a",
        "colab": {
          "base_uri": "https://localhost:8080/",
          "height": 34
        }
      },
      "source": [
        "from google.colab import drive\n",
        "drive.mount('/content/drive')"
      ],
      "execution_count": null,
      "outputs": [
        {
          "output_type": "stream",
          "text": [
            "Mounted at /content/drive\n"
          ],
          "name": "stdout"
        }
      ]
    },
    {
      "cell_type": "code",
      "metadata": {
        "id": "p6uNMJSbXMAW",
        "outputId": "aa9b0b64-302a-4b97-8280-5438b162dd5e",
        "colab": {
          "base_uri": "https://localhost:8080/",
          "height": 176
        }
      },
      "source": [
        "!cp  drive/My\\ Drive/quora-question-pairs.zip quora-question-pairs.zip\n",
        "!unzip quora-question-pairs.zip\n",
        "!unzip test.csv.zip\n",
        "!unzip train.csv.zip"
      ],
      "execution_count": null,
      "outputs": [
        {
          "output_type": "stream",
          "text": [
            "Archive:  quora-question-pairs.zip\n",
            "  inflating: sample_submission.csv.zip  \n",
            "  inflating: test.csv                \n",
            "  inflating: test.csv.zip            \n",
            "  inflating: train.csv.zip           \n",
            "Archive:  test.csv.zip\n",
            "replace test.csv? [y]es, [n]o, [A]ll, [N]one, [r]ename: n\n",
            "Archive:  train.csv.zip\n",
            "  inflating: train.csv               \n"
          ],
          "name": "stdout"
        }
      ]
    },
    {
      "cell_type": "code",
      "metadata": {
        "id": "7CAmMc3PMoxm",
        "outputId": "4645bd30-559c-410f-928b-a447f66a0873",
        "colab": {
          "base_uri": "https://localhost:8080/",
          "height": 52
        }
      },
      "source": [
        "import numpy as np # linear algebra\n",
        "import pandas as pd # data processing, CSV file I/O (e.g. pd.read_csv)\n",
        "import string\n",
        "import nltk\n",
        "import tensorflow as tf\n",
        "import re\n",
        "tf.compat.v1.disable_eager_execution()\n",
        "from nltk.corpus import stopwords\n",
        "nltk.download(\"stopwords\")\n",
        "from tensorflow import keras\n",
        "from tensorflow.keras import layers\n",
        "from keras.preprocessing.text import one_hot\n",
        "from keras.preprocessing.sequence import pad_sequences\n",
        "from keras.layers import Dense\n",
        "from keras.layers import Flatten\n",
        "from keras.layers.embeddings import Embedding\n",
        "from keras.models import Model\n",
        "from keras.preprocessing.text import Tokenizer\n",
        "import matplotlib.pyplot as plt\n",
        "# Input data files are available in the read-only \"../input/\" directory\n",
        "# For example, running this (by clicking run or pressing Shift+Enter) will list all files under the input directory\n",
        "\n",
        "import os\n",
        "for dirname, _, filenames in os.walk('/kaggle/input'):\n",
        "    for filename in filenames:\n",
        "        print(os.path.join(dirname, filename))"
      ],
      "execution_count": null,
      "outputs": [
        {
          "output_type": "stream",
          "text": [
            "[nltk_data] Downloading package stopwords to /root/nltk_data...\n",
            "[nltk_data]   Unzipping corpora/stopwords.zip.\n"
          ],
          "name": "stdout"
        }
      ]
    },
    {
      "cell_type": "code",
      "metadata": {
        "id": "ynHkGVUizazc",
        "outputId": "f6906355-6706-4dbe-e385-c11742002843",
        "colab": {
          "base_uri": "https://localhost:8080/",
          "height": 34
        }
      },
      "source": [
        "file_name=\"glove.6B.300d.txt\"\n",
        "\n",
        "embeddings_index = {}\n",
        "with open(file_name) as f:\n",
        "    for line in f:\n",
        "        word, coefs = line.split(maxsplit=1)\n",
        "        coefs = np.fromstring(coefs, \"f\", sep=\" \")\n",
        "        embeddings_index[word] = coefs\n",
        "\n",
        "print(\"Found %s word vectors.\" % len(embeddings_index))"
      ],
      "execution_count": null,
      "outputs": [
        {
          "output_type": "stream",
          "text": [
            "Found 400000 word vectors.\n"
          ],
          "name": "stdout"
        }
      ]
    },
    {
      "cell_type": "code",
      "metadata": {
        "id": "OS_MyOg_NBQg"
      },
      "source": [
        "#STOPWORDS = set(stopwords.words('english'))\n",
        "# data preprocessing\n",
        "# 1)make text to lower\n",
        "# 2)remove punctuation\n",
        "# 3)remove numbers\n",
        "# 4)remove stopwords\n",
        "STOPWORDS = set(stopwords.words('english')) \n",
        "pattern_stopwords = re.compile(r'\\b(' + r'|'.join(STOPWORDS) + r')\\b')\n",
        "pattern_numbers = r'[0-9]'\n",
        "def dataprocessing(text):\n",
        "    text=text.lower()\n",
        "    text=re.sub(r'[^\\w\\s]', ' ', text)\n",
        "    text=re.sub(r'”', ' ', text)\n",
        "    text=re.sub(r'“', ' ', text)\n",
        "    text=re.sub(r'…', ' ', text)\n",
        "    text=re.sub(r'’', ' ', text)\n",
        "    text=re.sub(r'‘', ' ', text)\n",
        "    text = re.sub(pattern_numbers, ' ', text)\n",
        "    return re.sub(pattern_stopwords,' ',text)\n",
        "def apply_preprocessing(data:pd.DataFrame):\n",
        "  data[\"question1\"] = data[\"question1\"].astype(str)\n",
        "  data[\"question2\"] = data[\"question2\"].astype(str)\n",
        "  data[\"question1\"] = data[\"question1\"].apply(lambda text: dataprocessing(text))\n",
        "  data[\"question2\"] = data[\"question2\"].apply(lambda text: dataprocessing(text))\n",
        "  return data\n",
        "\n",
        "  "
      ],
      "execution_count": 11,
      "outputs": []
    },
    {
      "cell_type": "code",
      "metadata": {
        "id": "SwGRbgOvfVKV"
      },
      "source": [
        "def get_input(data:pd.DataFrame):\n",
        "  word_tokenizer = Tokenizer()\n",
        "  data[\"count_1\"] =  [len(text) for text in data[\"question1\"]]\n",
        "  data[\"count_2\"] =  [len(text) for text in data[\"question2\"]]\n",
        "  data_filtered_1 = data[data['count_2']<=75]\n",
        "  tf2 = data_filtered_1[data_filtered_1['count_1']<=75]\n",
        "  word_tokenizer.fit_on_texts(data[\"question1\"]+data[\"question2\"])\n",
        "  vocab_length = len(word_tokenizer.word_index) + 1\n",
        "  dic=word_tokenizer.word_index\n",
        "  tf2[\"embedded_sentences_1\"] = word_tokenizer.texts_to_sequences(tf2[\"question1\"])\n",
        "  tf2[\"embedded_sentences_2\"] = word_tokenizer.texts_to_sequences(tf2[\"question2\"])\n",
        "  emb_pad_1 = pad_sequences(tf2[\"embedded_sentences_1\"],15, padding='post')\n",
        "  emb_pad_2 = pad_sequences(tf2[\"embedded_sentences_2\"],15, padding='post')\n",
        "  return dic,vocab_length,emb_pad_1,emb_pad_2,tf2 "
      ],
      "execution_count": null,
      "outputs": []
    },
    {
      "cell_type": "code",
      "metadata": {
        "id": "TmOBp07rhjxS",
        "outputId": "4f72943d-b144-4b6e-9b62-7743ded7acc1",
        "colab": {
          "base_uri": "https://localhost:8080/",
          "height": 142
        }
      },
      "source": [
        "'''data = pd.read_csv('train.csv')\n",
        "train = apply_preprocessing(data)\n",
        "train = train.sample(frac = 1)\n",
        "train_portion=int(0.9*train.shape[0])\n",
        "train_X = train[0:train_portion]\n",
        "word_tokenizer = Tokenizer()\n",
        "data[\"count_1\"] =  [len(text) for text in data[\"question1\"]]\n",
        "data[\"count_2\"] =  [len(text) for text in data[\"question2\"]]\n",
        "data_filtered_1 = data[data['count_2']<=75]\n",
        "tf2 = data_filtered_1[data_filtered_1['count_1']<=75]\n",
        "word_tokenizer.fit_on_texts(data[\"question1\"]+data[\"question2\"])\n",
        "vocab_length = len(word_tokenizer.word_index) + 1\n",
        "dic=word_tokenizer.word_index\n",
        "tf2[\"embedded_sentences_1\"] = word_tokenizer.texts_to_sequences(tf2[\"question1\"])\n",
        "tf2[\"embedded_sentences_2\"] = word_tokenizer.texts_to_sequences(tf2[\"question2\"])\n",
        "tf2[\"count_1\"] =  [len(text) for text in tf2[\"embedded_sentences_1\"]]\n",
        "tf2[\"count_2\"] =  [len(text) for text in tf2[\"embedded_sentences_2\"]]\n",
        "'''"
      ],
      "execution_count": null,
      "outputs": [
        {
          "output_type": "execute_result",
          "data": {
            "application/vnd.google.colaboratory.intrinsic+json": {
              "type": "string"
            },
            "text/plain": [
              "'data = pd.read_csv(\\'train.csv\\')\\ntrain = apply_preprocessing(data)\\ntrain = train.sample(frac = 1)\\ntrain_portion=int(0.9*train.shape[0])\\ntrain_X = train[0:train_portion]\\nword_tokenizer = Tokenizer()\\ndata[\"count_1\"] =  [len(text) for text in data[\"question1\"]]\\ndata[\"count_2\"] =  [len(text) for text in data[\"question2\"]]\\ndata_filtered_1 = data[data[\\'count_2\\']<=75]\\ntf2 = data_filtered_1[data_filtered_1[\\'count_1\\']<=75]\\nword_tokenizer.fit_on_texts(data[\"question1\"]+data[\"question2\"])\\nvocab_length = len(word_tokenizer.word_index) + 1\\ndic=word_tokenizer.word_index\\ntf2[\"embedded_sentences_1\"] = word_tokenizer.texts_to_sequences(tf2[\"question1\"])\\ntf2[\"embedded_sentences_2\"] = word_tokenizer.texts_to_sequences(tf2[\"question2\"])\\ntf2[\"count_1\"] =  [len(text) for text in tf2[\"embedded_sentences_1\"]]\\ntf2[\"count_2\"] =  [len(text) for text in tf2[\"embedded_sentences_2\"]]\\n'"
            ]
          },
          "metadata": {
            "tags": []
          },
          "execution_count": 9
        }
      ]
    },
    {
      "cell_type": "code",
      "metadata": {
        "id": "oz5VWNKqmS0l"
      },
      "source": [
        "data = pd.read_csv('train.csv')\n",
        "train = apply_preprocessing(data)\n",
        "train = train.sample(frac = 1)\n",
        "train_portion=int(0.35*train.shape[0])\n",
        "val_portion=int(0.05*train.shape[0])\n",
        "test_portion=int(0.05*train.shape[0])\n",
        "pos1=train_portion + val_portion\n",
        "last_pos=pos1 + test_portion\n",
        "train_X = train[0:train_portion]\n",
        "val_X = train[train_portion:pos1]\n",
        "test_X = train[pos1:last_pos]\n",
        "dic,vocab_length,train_emb_pad_1,train_emb_pad_2,train_tf2 = get_input(train_X)\n",
        "_,_,test_emb_pad_1,test_emb_pad_2,test_tf2 = get_input(test_X)\n",
        "_,_,val_emb_pad_1,val_emb_pad_2,val_tf2 = get_input(val_X)"
      ],
      "execution_count": null,
      "outputs": []
    },
    {
      "cell_type": "code",
      "metadata": {
        "id": "Q6_L7zUhgb1g",
        "outputId": "8bbe1806-d51f-40a3-e6cb-b0207566ae99",
        "colab": {
          "base_uri": "https://localhost:8080/",
          "height": 462
        }
      },
      "source": [
        "print(train_X.shape)\n",
        "train_X.hist(column=[\"count_1\"],figsize=[15,7],bins=5)\n",
        "plt.show()"
      ],
      "execution_count": 13,
      "outputs": [
        {
          "output_type": "stream",
          "text": [
            "(141501, 8)\n"
          ],
          "name": "stdout"
        },
        {
          "output_type": "display_data",
          "data": {
            "image/png": "[encoded data removed]",
            "text/plain": [
              "<Figure size 1080x504 with 1 Axes>"
            ]
          },
          "metadata": {
            "tags": [],
            "needs_background": "light"
          }
        }
      ]
    },
    {
      "cell_type": "code",
      "metadata": {
        "id": "sKX8pMJd9DTE",
        "outputId": "cafe2b1b-64af-42b3-f0c7-61ea1403d331",
        "colab": {
          "base_uri": "https://localhost:8080/",
          "height": 34
        }
      },
      "source": [
        "m = train_tf2.shape[0]\n",
        "print(m)"
      ],
      "execution_count": 14,
      "outputs": [
        {
          "output_type": "stream",
          "text": [
            "110913\n"
          ],
          "name": "stdout"
        }
      ]
    },
    {
      "cell_type": "code",
      "metadata": {
        "id": "UxRTjzpVzhxD",
        "outputId": "33023d1b-a5df-4348-d58a-b62e491e09be",
        "colab": {
          "base_uri": "https://localhost:8080/",
          "height": 52
        }
      },
      "source": [
        "num_tokens = len(dic) + 2\n",
        "embedding_dim = 300\n",
        "hits = 0\n",
        "misses = 0\n",
        "\n",
        "# Prepare embedding matrix\n",
        "embedding_matrix = np.zeros((num_tokens, embedding_dim))\n",
        "for word, i in dic.items():\n",
        "    embedding_vector = embeddings_index.get(word)\n",
        "    if embedding_vector is not None:\n",
        "        # Words not found in embedding index will be all-zeros.\n",
        "        # This includes the representation for \"padding\" and \"OOV\"\n",
        "        embedding_matrix[i] = embedding_vector\n",
        "        hits += 1\n",
        "    else:\n",
        "        #print(word)\n",
        "        misses += 1\n",
        "print(\"Converted %d words (%d misses)\" % (hits, misses))\n",
        "print(num_tokens)"
      ],
      "execution_count": 15,
      "outputs": [
        {
          "output_type": "stream",
          "text": [
            "Converted 41072 words (9565 misses)\n",
            "50639\n"
          ],
          "name": "stdout"
        }
      ]
    },
    {
      "cell_type": "code",
      "metadata": {
        "id": "_6588Obpzqi1"
      },
      "source": [
        "embedding_layer = Embedding(\n",
        "    num_tokens,\n",
        "    embedding_dim,\n",
        "    embeddings_initializer=keras.initializers.Constant(embedding_matrix),\n",
        "    trainable=False,\n",
        ")"
      ],
      "execution_count": 16,
      "outputs": []
    },
    {
      "cell_type": "code",
      "metadata": {
        "id": "lskvFlqb9nQR"
      },
      "source": [
        "input1 = tf.keras.Input(shape =(15,),name=\"input1\")\n",
        "input2 = tf.keras.Input(shape =(15,),name=\"input2\")\n",
        "X1 = embedding_layer(input1)\n",
        "X2 = embedding_layer(input2)\n",
        "X1 = layers.LSTM(128,return_sequences=True)(X1)\n",
        "X1 = layers.LSTM(128,)(X1)\n",
        "X2 = layers.LSTM(128,return_sequences=True)(X2)\n",
        "X2 = layers.LSTM(128)(X2)\n",
        "X =  layers.Concatenate(axis=1)([X1, X2])\n",
        "output = layers.Dense(1, activation='sigmoid')(X) \n",
        "model = Model(inputs=[input1,input2],outputs=output)"
      ],
      "execution_count": 20,
      "outputs": []
    },
    {
      "cell_type": "code",
      "metadata": {
        "id": "RQkC7vdbBpDH",
        "outputId": "306ad8cb-ea91-43cb-ba35-98622142a240",
        "colab": {
          "base_uri": "https://localhost:8080/",
          "height": 532
        }
      },
      "source": [
        "#opt = keras.optimizers.Adam(learning_rate=0.0001)\n",
        "model.compile(optimizer='adam', loss=tf.keras.losses.MeanSquaredError(), metrics=['acc'])\n",
        "print(model.summary())"
      ],
      "execution_count": 21,
      "outputs": [
        {
          "output_type": "stream",
          "text": [
            "Model: \"functional_3\"\n",
            "__________________________________________________________________________________________________\n",
            "Layer (type)                    Output Shape         Param #     Connected to                     \n",
            "==================================================================================================\n",
            "input1 (InputLayer)             [(None, 15)]         0                                            \n",
            "__________________________________________________________________________________________________\n",
            "input2 (InputLayer)             [(None, 15)]         0                                            \n",
            "__________________________________________________________________________________________________\n",
            "embedding (Embedding)           multiple             15191700    input1[0][0]                     \n",
            "                                                                 input2[0][0]                     \n",
            "__________________________________________________________________________________________________\n",
            "lstm_4 (LSTM)                   (None, 15, 128)      219648      embedding[2][0]                  \n",
            "__________________________________________________________________________________________________\n",
            "lstm_6 (LSTM)                   (None, 15, 128)      219648      embedding[3][0]                  \n",
            "__________________________________________________________________________________________________\n",
            "lstm_5 (LSTM)                   (None, 128)          131584      lstm_4[0][0]                     \n",
            "__________________________________________________________________________________________________\n",
            "lstm_7 (LSTM)                   (None, 128)          131584      lstm_6[0][0]                     \n",
            "__________________________________________________________________________________________________\n",
            "concatenate_1 (Concatenate)     (None, 256)          0           lstm_5[0][0]                     \n",
            "                                                                 lstm_7[0][0]                     \n",
            "__________________________________________________________________________________________________\n",
            "dense_1 (Dense)                 (None, 1)            257         concatenate_1[0][0]              \n",
            "==================================================================================================\n",
            "Total params: 15,894,421\n",
            "Trainable params: 702,721\n",
            "Non-trainable params: 15,191,700\n",
            "__________________________________________________________________________________________________\n",
            "None\n"
          ],
          "name": "stdout"
        }
      ]
    },
    {
      "cell_type": "code",
      "metadata": {
        "id": "d7hfJoKW-D9u"
      },
      "source": [
        "print(train_emb_pad_1[0])"
      ],
      "execution_count": null,
      "outputs": []
    },
    {
      "cell_type": "code",
      "metadata": {
        "id": "3Vuv1eQC0SYT",
        "outputId": "371e7d4d-5aea-4d07-963d-7ac30254edf4",
        "colab": {
          "base_uri": "https://localhost:8080/",
          "height": 303
        }
      },
      "source": [
        "model.fit([train_emb_pad_1,train_emb_pad_2], train_tf2[\"is_duplicate\"],batch_size =128, epochs=5, verbose=1,validation_data=[[val_emb_pad_1,val_emb_pad_2],val_tf2[\"is_duplicate\"]])\n"
      ],
      "execution_count": 22,
      "outputs": [
        {
          "output_type": "stream",
          "text": [
            "Train on 110913 samples, validate on 15809 samples\n",
            "Epoch 1/5\n",
            "110913/110913 [==============================] - ETA: 0s - loss: 0.2117 - acc: 0.6687WARNING:tensorflow:From /usr/local/lib/python3.6/dist-packages/tensorflow/python/keras/engine/training_v1.py:2048: Model.state_updates (from tensorflow.python.keras.engine.training) is deprecated and will be removed in a future version.\n",
            "Instructions for updating:\n",
            "This property should not be used in TensorFlow 2.0, as updates are applied automatically.\n",
            "110913/110913 [==============================] - 209s 2ms/sample - loss: 0.2117 - acc: 0.6687 - val_loss: 0.2497 - val_acc: 0.5920\n",
            "Epoch 2/5\n",
            "110913/110913 [==============================] - 206s 2ms/sample - loss: 0.1930 - acc: 0.7063 - val_loss: 0.2544 - val_acc: 0.5934\n",
            "Epoch 3/5\n",
            "110913/110913 [==============================] - 209s 2ms/sample - loss: 0.1802 - acc: 0.7313 - val_loss: 0.2529 - val_acc: 0.5876\n",
            "Epoch 4/5\n",
            "110913/110913 [==============================] - 211s 2ms/sample - loss: 0.1669 - acc: 0.7557 - val_loss: 0.2617 - val_acc: 0.5849\n",
            "Epoch 5/5\n",
            "110913/110913 [==============================] - 214s 2ms/sample - loss: 0.1510 - acc: 0.7849 - val_loss: 0.2742 - val_acc: 0.5787\n"
          ],
          "name": "stdout"
        },
        {
          "output_type": "execute_result",
          "data": {
            "text/plain": [
              "<tensorflow.python.keras.callbacks.History at 0x7fe8472d5ac8>"
            ]
          },
          "metadata": {
            "tags": []
          },
          "execution_count": 22
        }
      ]
    },
    {
      "cell_type": "code",
      "metadata": {
        "id": "dwYX1XsMaqqv",
        "outputId": "4274e134-514c-46b3-9258-a8bce06d4734",
        "colab": {
          "base_uri": "https://localhost:8080/",
          "height": 52
        }
      },
      "source": [
        "loss, accuracy = model.evaluate([test_emb_pad_1,test_emb_pad_2],test_tf2[\"is_duplicate\"], verbose=1)\n",
        "print('Accuracy: %f' % (accuracy*100))\n",
        "print('loss: %f' % loss)"
      ],
      "execution_count": 23,
      "outputs": [
        {
          "output_type": "stream",
          "text": [
            "Accuracy: 58.843172\n",
            "loss: 0.268061\n"
          ],
          "name": "stdout"
        }
      ]
    },
    {
      "cell_type": "markdown",
      "metadata": {
        "id": "srR15G51YWHK"
      },
      "source": [
        "**Pretrained model**"
      ]
    },
    {
      "cell_type": "code",
      "metadata": {
        "id": "KQM7Ya7sAwGq"
      },
      "source": [
        "#supports two segmentation algorithms, byte-pair-encoding (BPE)and unigram language model\n",
        "! pip install sentencepiece"
      ],
      "execution_count": null,
      "outputs": []
    },
    {
      "cell_type": "code",
      "metadata": {
        "id": "jXHLozzrYJzy"
      },
      "source": [
        "! wget https://storage.googleapis.com/xlnet/released_models/cased_L-12_H-768_A-12.zip\n",
        "! unzip cased_L-12_H-768_A-12.zip"
      ],
      "execution_count": null,
      "outputs": []
    },
    {
      "cell_type": "code",
      "metadata": {
        "id": "_QR1XKLCYQC3"
      },
      "source": [
        "! git clone https://github.com/zihangdai/xlnet.git"
      ],
      "execution_count": null,
      "outputs": []
    },
    {
      "cell_type": "code",
      "metadata": {
        "id": "9Wv55WPDYSvJ"
      },
      "source": [
        "SCRIPTS_DIR = 'xlnet' #@param {type:\"string\"}\n",
        "DATA_DIR = 'train.csv' #@param {type:\"string\"}\n",
        "OUTPUT_DIR = 'proc_data/quora' #@param {type:\"string\"}\n",
        "PRETRAINED_MODEL_DIR = 'xlnet_cased_L-12_H-768_A-12' #@param {type:\"string\"}\n",
        "CHECKPOINT_DIR = 'exp/quora' #@param {type:\"string\"}"
      ],
      "execution_count": null,
      "outputs": []
    },
    {
      "cell_type": "code",
      "metadata": {
        "id": "w1DFmmvwZCZI"
      },
      "source": [
        "train_command = \"python xlnet/run_classifier.py \\\n",
        "  --do_train=True \\\n",
        "  --do_eval=True \\\n",
        "  --eval_all_ckpt=True \\\n",
        "  --task_name=quora \\\n",
        "  --data_dir=\"+DATA_DIR+\" \\\n",
        "  --output_dir=\"+OUTPUT_DIR+\" \\\n",
        "  --model_dir=\"+CHECKPOINT_DIR+\" \\\n",
        "  --uncased=False \\\n",
        "  --spiece_model_file=\"+PRETRAINED_MODEL_DIR+\"/spiece.model \\\n",
        "  --model_config_path=\"+PRETRAINED_MODEL_DIR+\"/xlnet_config.json \\\n",
        "  --init_checkpoint=\"+PRETRAINED_MODEL_DIR+\"/xlnet_model.ckpt \\\n",
        "  --max_seq_length=128 \\\n",
        "  --train_batch_size=8 \\\n",
        "  --eval_batch_size=8 \\\n",
        "  --num_hosts=1 \\\n",
        "  --num_core_per_host=1 \\\n",
        "  --learning_rate=2e-5 \\\n",
        "  --train_steps=4000 \\\n",
        "  --warmup_steps=500 \\\n",
        "  --save_steps=500 \\\n",
        "  --iterations=500\"\n",
        "\n",
        "! {train_command}"
      ],
      "execution_count": null,
      "outputs": []
    }
  ]
}